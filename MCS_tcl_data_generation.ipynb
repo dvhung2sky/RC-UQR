{
 "cells": [
  {
   "cell_type": "code",
   "execution_count": 2,
   "metadata": {},
   "outputs": [],
   "source": [
    "import pandas as pd\n",
    "import numpy as np\n",
    "import pickle\n",
    "import matplotlib.pyplot as plt\n",
    "import random\n",
    "import itertools\n",
    "import subprocess\n",
    "from scipy.stats import norm\n",
    "from scipy import interpolate\n",
    "%matplotlib inline\n",
    "import os"
   ]
  },
  {
   "cell_type": "code",
   "execution_count": 25,
   "metadata": {},
   "outputs": [],
   "source": [
    "\n",
    "list_name=['LCol', 'HCol', 'BCol', 'coverCol', 'barAreaTop', 'fc', 'Ec', 'Fy', 'Es', 'P']\n",
    "list_mean = [6.0, 1.5, 1.2, 0.06, 1.4516, 27.0, 25.0, 460, 200, 0.75]\n",
    "list_scale = [1.0, 1, 1, 1, 1E-3, -1E6, 1.0E9, 1E6, 1E9, 1E6]\n",
    "list_cov = [20, 20, 20, 20, 20, 20, 20, 20, 20, 10]\n",
    "list_type = ['log', 'log','log', 'log', 'log', 'normal', 'normal', 'log', 'log', 'normal']\n",
    "list_std = np.array(list_mean)/ np.array(list_cov)"
   ]
  },
  {
   "cell_type": "code",
   "execution_count": 26,
   "metadata": {},
   "outputs": [],
   "source": [
    "Nsample = 100000\n",
    "\n",
    "# No need to change\n",
    "dict_variable = {}\n",
    "for i, name in enumerate(list_name):\n",
    "    if list_type[i] == 'normal':\n",
    "        xx = np.random.normal(list_mean[i], list_mean[i]/list_cov[i], Nsample)\n",
    "    elif list_type[i] == 'log':\n",
    "        mean = list_mean[i]\n",
    "        std =  list_std[i]\n",
    "        sigmal = np.sqrt(np.log(std**2/mean**2 + 1))\n",
    "        mu = np.log(mean) - sigmal**2/2\n",
    "        xx = np.random.lognormal(mu, sigmal, Nsample)\n",
    "\n",
    "    dict_variable[name] = xx * list_scale[i]       \n",
    "        \n",
    "dict_variable['id'] = list(range(Nsample))\n",
    "df = pd.DataFrame.from_dict(dict_variable) "
   ]
  },
  {
   "cell_type": "code",
   "execution_count": 27,
   "metadata": {},
   "outputs": [
    {
     "data": {
      "text/html": [
       "<div>\n",
       "<style scoped>\n",
       "    .dataframe tbody tr th:only-of-type {\n",
       "        vertical-align: middle;\n",
       "    }\n",
       "\n",
       "    .dataframe tbody tr th {\n",
       "        vertical-align: top;\n",
       "    }\n",
       "\n",
       "    .dataframe thead th {\n",
       "        text-align: right;\n",
       "    }\n",
       "</style>\n",
       "<table border=\"1\" class=\"dataframe\">\n",
       "  <thead>\n",
       "    <tr style=\"text-align: right;\">\n",
       "      <th></th>\n",
       "      <th>LCol</th>\n",
       "      <th>HCol</th>\n",
       "      <th>BCol</th>\n",
       "      <th>coverCol</th>\n",
       "      <th>barAreaTop</th>\n",
       "      <th>fc</th>\n",
       "      <th>Ec</th>\n",
       "      <th>Fy</th>\n",
       "      <th>Es</th>\n",
       "      <th>P</th>\n",
       "      <th>id</th>\n",
       "    </tr>\n",
       "  </thead>\n",
       "  <tbody>\n",
       "    <tr>\n",
       "      <th>0</th>\n",
       "      <td>6.470589</td>\n",
       "      <td>1.446092</td>\n",
       "      <td>1.099409</td>\n",
       "      <td>0.062476</td>\n",
       "      <td>0.001495</td>\n",
       "      <td>-2.568421e+07</td>\n",
       "      <td>2.658992e+10</td>\n",
       "      <td>4.641490e+08</td>\n",
       "      <td>1.955834e+11</td>\n",
       "      <td>697385.555207</td>\n",
       "      <td>0</td>\n",
       "    </tr>\n",
       "    <tr>\n",
       "      <th>1</th>\n",
       "      <td>5.965273</td>\n",
       "      <td>1.464021</td>\n",
       "      <td>1.199771</td>\n",
       "      <td>0.061787</td>\n",
       "      <td>0.001407</td>\n",
       "      <td>-2.744141e+07</td>\n",
       "      <td>2.553596e+10</td>\n",
       "      <td>4.326566e+08</td>\n",
       "      <td>1.877873e+11</td>\n",
       "      <td>779832.504658</td>\n",
       "      <td>1</td>\n",
       "    </tr>\n",
       "    <tr>\n",
       "      <th>2</th>\n",
       "      <td>6.103964</td>\n",
       "      <td>1.545049</td>\n",
       "      <td>1.194561</td>\n",
       "      <td>0.057659</td>\n",
       "      <td>0.001393</td>\n",
       "      <td>-2.610261e+07</td>\n",
       "      <td>2.244694e+10</td>\n",
       "      <td>4.896893e+08</td>\n",
       "      <td>2.060969e+11</td>\n",
       "      <td>693235.712978</td>\n",
       "      <td>2</td>\n",
       "    </tr>\n",
       "    <tr>\n",
       "      <th>3</th>\n",
       "      <td>5.686435</td>\n",
       "      <td>1.545789</td>\n",
       "      <td>1.216454</td>\n",
       "      <td>0.053344</td>\n",
       "      <td>0.001307</td>\n",
       "      <td>-2.722699e+07</td>\n",
       "      <td>2.327111e+10</td>\n",
       "      <td>4.336217e+08</td>\n",
       "      <td>1.984635e+11</td>\n",
       "      <td>765728.997957</td>\n",
       "      <td>3</td>\n",
       "    </tr>\n",
       "    <tr>\n",
       "      <th>4</th>\n",
       "      <td>6.352050</td>\n",
       "      <td>1.507667</td>\n",
       "      <td>1.127501</td>\n",
       "      <td>0.056393</td>\n",
       "      <td>0.001346</td>\n",
       "      <td>-2.438527e+07</td>\n",
       "      <td>2.264225e+10</td>\n",
       "      <td>4.866478e+08</td>\n",
       "      <td>1.786315e+11</td>\n",
       "      <td>712066.557404</td>\n",
       "      <td>4</td>\n",
       "    </tr>\n",
       "  </tbody>\n",
       "</table>\n",
       "</div>"
      ],
      "text/plain": [
       "       LCol      HCol      BCol  coverCol  barAreaTop            fc  \\\n",
       "0  6.470589  1.446092  1.099409  0.062476    0.001495 -2.568421e+07   \n",
       "1  5.965273  1.464021  1.199771  0.061787    0.001407 -2.744141e+07   \n",
       "2  6.103964  1.545049  1.194561  0.057659    0.001393 -2.610261e+07   \n",
       "3  5.686435  1.545789  1.216454  0.053344    0.001307 -2.722699e+07   \n",
       "4  6.352050  1.507667  1.127501  0.056393    0.001346 -2.438527e+07   \n",
       "\n",
       "             Ec            Fy            Es              P  id  \n",
       "0  2.658992e+10  4.641490e+08  1.955834e+11  697385.555207   0  \n",
       "1  2.553596e+10  4.326566e+08  1.877873e+11  779832.504658   1  \n",
       "2  2.244694e+10  4.896893e+08  2.060969e+11  693235.712978   2  \n",
       "3  2.327111e+10  4.336217e+08  1.984635e+11  765728.997957   3  \n",
       "4  2.264225e+10  4.866478e+08  1.786315e+11  712066.557404   4  "
      ]
     },
     "execution_count": 27,
     "metadata": {},
     "output_type": "execute_result"
    }
   ],
   "source": [
    "df.head()"
   ]
  },
  {
   "cell_type": "code",
   "execution_count": 30,
   "metadata": {},
   "outputs": [
    {
     "data": {
      "image/png": "[encoded data removed]",
      "text/plain": [
       "<Figure size 640x480 with 1 Axes>"
      ]
     },
     "metadata": {},
     "output_type": "display_data"
    }
   ],
   "source": [
    "plt.hist(df['fc'], bins=50);"
   ]
  },
  {
   "cell_type": "code",
   "execution_count": 29,
   "metadata": {},
   "outputs": [],
   "source": [
    "def gen_tcl(X, fname = 'base.tcl', fout='id_'):\n",
    "    list_key = ['LCol', 'HCol', 'BCol', 'coverCol', 'barAreaTop', 'fc', 'Ec', 'Fy', 'Es']            \n",
    "    with open(fname, 'r') as f:\n",
    "        file = f.readlines()\n",
    "        for i, line in enumerate(file):        \n",
    "            for j, k in enumerate(list_key):                      \n",
    "                if f'set {k} ' in line:\n",
    "                    file[i] = f'set {k} {X[j]}\\n'\n",
    "\n",
    "            if 'recorder Node' in line:\n",
    "                file[i] = f'recorder Node -file {fout}disp_{int(X[-1])}.txt -time -node 2 -dof 1 disp\\n'\n",
    "                \n",
    "                \n",
    "    # No need to change                                \n",
    "    with open(fout + f'{int(X[-1])}.tcl', 'w') as fw:\n",
    "        fw.writelines(file)\n",
    "        fw.close()        \n",
    "              \n",
    "    \n",
    "    return None"
   ]
  },
  {
   "cell_type": "code",
   "execution_count": 32,
   "metadata": {},
   "outputs": [
    {
     "name": "stdout",
     "output_type": "stream",
     "text": [
      "0\n",
      "CPU times: total: 578 ms\n",
      "Wall time: 13.1 s\n"
     ]
    }
   ],
   "source": [
    "%%time\n",
    "fin ='ex_1.tcl'    \n",
    "fout='ex_1/id_'\n",
    "\n",
    "# No need to change\n",
    "for i in range(100):\n",
    "    if i%5000==0:\n",
    "        print(i)\n",
    "    X = df.iloc[i].values\n",
    "    gen_tcl(X, fname = fin, fout=fout)\n",
    "    subprocess.run(f\"Opensees {fout}{i}.tcl\")\n",
    "\n",
    "    "
   ]
  },
  {
   "cell_type": "code",
   "execution_count": null,
   "metadata": {},
   "outputs": [],
   "source": []
  }
 ],
 "metadata": {
  "kernelspec": {
   "display_name": "Python 3 (ipykernel)",
   "language": "python",
   "name": "python3"
  },
  "language_info": {
   "codemirror_mode": {
    "name": "ipython",
    "version": 3
   },
   "file_extension": ".py",
   "mimetype": "text/x-python",
   "name": "python",
   "nbconvert_exporter": "python",
   "pygments_lexer": "ipython3",
   "version": "3.9.13"
  }
 },
 "nbformat": 4,
 "nbformat_minor": 2
}
