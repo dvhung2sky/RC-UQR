{
 "cells": [
  {
   "cell_type": "code",
   "execution_count": null,
   "id": "e16e9e28",
   "metadata": {},
   "outputs": [],
   "source": [
    "import numpy as np\n",
    "import matplotlib.pyplot as plt\n",
    "import pandas as pd\n",
    "%matplotlib inline\n",
    "import pickle\n",
    "from scipy.stats import norm\n",
    "from sklearn import preprocessing\n",
    "from sklearn.gaussian_process.kernels import *\n",
    "import sklearn.gaussian_process.kernels\n",
    "from sklearn.gaussian_process import GaussianProcessRegressor\n",
    "import subprocess\n",
    "from sklearn.model_selection import train_test_split\n",
    "import plotly.graph_objects as go"
   ]
  },
  {
   "cell_type": "code",
   "execution_count": null,
   "id": "a089f349",
   "metadata": {},
   "outputs": [],
   "source": [
    "from sklearn.ensemble import RandomForestRegressor\n",
    "from sklearn.tree import DecisionTreeRegressor\n",
    "from mapie.regression import MapieQuantileRegressor, MapieRegressor  \n",
    "import xgboost\n",
    "from lightgbm import LGBMRegressor\n",
    "from sklearn.metrics import mean_squared_error as MSE\n",
    "from sklearn.metrics import r2_score\n",
    "from sklearn.preprocessing import PolynomialFeatures\n",
    "from sklearn.pipeline import Pipeline\n",
    "from sklearn.linear_model import LinearRegression, QuantileRegressor\n",
    "from xgboost import XGBRegressor\n",
    "\n",
    "import optuna"
   ]
  },
  {
   "cell_type": "code",
   "execution_count": null,
   "id": "d22eda1c",
   "metadata": {},
   "outputs": [],
   "source": [
    "import warnings\n",
    "warnings.filterwarnings(\"ignore\")"
   ]
  },
  {
   "cell_type": "code",
   "execution_count": null,
   "id": "5822f847",
   "metadata": {},
   "outputs": [],
   "source": [
    "with open('MCS_RC_ex3_input_output.p','rb') as f:\n",
    "    dfall = pickle.load(f)     "
   ]
  },
  {
   "cell_type": "code",
   "execution_count": null,
   "id": "0bbec7aa",
   "metadata": {},
   "outputs": [],
   "source": [
    "def Ufunc(y_GP, std):\n",
    "  U = np.abs(y_GP/(std+1e-6))\n",
    "  idx = np.argmin(U)\n",
    "\n",
    "  return idx, U[idx]\n",
    "\n",
    "def Ufunc_k(y_GP, std, k = 10):\n",
    "  U = np.abs(y_GP/(std+1e-6))\n",
    "  idx = np.argpartition(U, k)[:k]\n",
    "\n",
    "  return idx, U[idx]\n",
    "\n",
    "def cal_Pf(y_GP):\n",
    "  Pf = len(np.where(y_GP < 0.0)[0])/len(y_GP)\n",
    "  Ri = norm.isf(Pf)\n",
    "  if Pf > 0:\n",
    "    CoV = ((1-Pf)/(Pf*len(y_GP)))**0.5\n",
    "  else:\n",
    "    CoV = 1E3\n",
    "\n",
    "  return Pf, CoV, Ri\n"
   ]
  },
  {
   "cell_type": "code",
   "execution_count": null,
   "id": "a3875f4a",
   "metadata": {},
   "outputs": [],
   "source": [
    "y_MC = dfall['yout']\n",
    "np.min(y_MC), np.max(y_MC)"
   ]
  },
  {
   "cell_type": "code",
   "execution_count": null,
   "id": "75ae3f5f",
   "metadata": {},
   "outputs": [],
   "source": [
    "y_mc = 0.35 - y_MC"
   ]
  },
  {
   "cell_type": "code",
   "execution_count": null,
   "id": "77df5000",
   "metadata": {},
   "outputs": [],
   "source": [
    "Pf, CoV, Ri = cal_Pf(y_mc)\n",
    "Pf, Ri, CoV"
   ]
  },
  {
   "cell_type": "code",
   "execution_count": null,
   "id": "d3867bac",
   "metadata": {},
   "outputs": [],
   "source": [
    "list_fea = np.array(list(dfall))[:-2]\n",
    "list_fea"
   ]
  },
  {
   "cell_type": "code",
   "execution_count": null,
   "id": "330703c5",
   "metadata": {},
   "outputs": [],
   "source": [
    "x_mc = dfall[list_fea].values\n",
    "Nfea = len(list_fea)\n",
    "Nfea\n"
   ]
  },
  {
   "cell_type": "code",
   "execution_count": null,
   "id": "6cab4c14",
   "metadata": {},
   "outputs": [],
   "source": [
    "Nsample = len(x_mc)\n",
    "list_id = np.random.randint(0,Nsample,1000)\n",
    "X_train_up, y_train_up  = x_mc[list_id,:Nfea], y_mc[list_id]\n",
    "scaler = preprocessing.StandardScaler().fit(X_train_up[:,:Nfea])\n",
    "X_scaled = scaler.transform(X_train_up[:,:Nfea])\n",
    "x_mc_scaled = scaler.transform(x_mc[:,:Nfea])\n"
   ]
  },
  {
   "cell_type": "markdown",
   "id": "dc458c99",
   "metadata": {},
   "source": [
    "### Gaussian Process"
   ]
  },
  {
   "cell_type": "code",
   "execution_count": null,
   "id": "7313c3a6",
   "metadata": {},
   "outputs": [],
   "source": [
    "list_id = np.random.randint(0,Nsample,500)\n",
    "X_scaled = x_mc_scaled[list_id,:Nfea]\n",
    "y_train_up = y_mc[list_id]\n"
   ]
  },
  {
   "cell_type": "code",
   "execution_count": null,
   "id": "8f6a8c61",
   "metadata": {},
   "outputs": [],
   "source": [
    "kernel = RBF(10)\n",
    "# kernel = ConstantKernel(1.0) + ConstantKernel(1.0) * RBF(10)  + WhiteKernel(5) + ConstantKernel(1) * PairwiseKernel(metric='poly', pairwise_kernels_kwargs={'degree':2})\n",
    "gaussian_process = GaussianProcessRegressor(kernel = kernel);\n",
    "gaussian_process.fit(X_scaled, y_train_up);\n",
    "y_GPtrain, std = gaussian_process.predict(X_scaled, return_std=True)\n",
    "y_GPref, std = gaussian_process.predict(x_mc_scaled, return_std=True)\n",
    "list_Pf_GP = []\n",
    "r2_score(y_GPref, y_mc)"
   ]
  },
  {
   "cell_type": "code",
   "execution_count": null,
   "id": "efa8090b",
   "metadata": {
    "scrolled": true
   },
   "outputs": [],
   "source": [
    "%%time\n",
    "for i in range(30):\n",
    "#   kernel = ConstantKernel(1.0) + ConstantKernel(1.0) * RBF(10)  + WhiteKernel(5) + ConstantKernel(1) * PairwiseKernel(metric='poly', pairwise_kernels_kwargs={'degree':2})\n",
    "  kernel = RBF(10)\n",
    "  gaussian_process = GaussianProcessRegressor(kernel = kernel);\n",
    "  gaussian_process.fit(X_scaled, y_train_up);\n",
    "  y_GP, std = gaussian_process.predict(x_mc_scaled[:,:Nfea], return_std=True)\n",
    "  idx, U = Ufunc_k(y_GP, std, k = 50)\n",
    "  Pf, CoV, Ri = cal_Pf(y_GP)\n",
    "  x_new, y_new = x_mc_scaled[idx,:Nfea], y_mc[idx]\n",
    "#   X_train_up = np.concatenate([X_train_up, x_new.reshape(1,-1)], axis = 0)\n",
    "  X_scaled = np.concatenate([X_scaled, x_new], axis = 0)\n",
    "  y_train_up = np.concatenate([y_train_up, y_new])\n",
    "#   print(Pf, Ri, CoV, U, len(y_train_up))\n",
    "  print(Pf, Ri, len(y_train_up))\n",
    "  list_Pf_GP.append(Pf)"
   ]
  },
  {
   "cell_type": "code",
   "execution_count": null,
   "id": "eee10f89",
   "metadata": {},
   "outputs": [],
   "source": [
    "r2_score(y_GP, y_mc)"
   ]
  },
  {
   "cell_type": "code",
   "execution_count": null,
   "id": "f5b88958",
   "metadata": {},
   "outputs": [],
   "source": [
    "plt.scatter(y_GPref, y_mc, color = 'r');\n",
    "plt.scatter(y_GP, y_mc);\n"
   ]
  },
  {
   "cell_type": "code",
   "execution_count": null,
   "id": "4fc6e93b",
   "metadata": {},
   "outputs": [],
   "source": []
  },
  {
   "cell_type": "code",
   "execution_count": null,
   "id": "62a507d1",
   "metadata": {},
   "outputs": [],
   "source": []
  },
  {
   "cell_type": "markdown",
   "id": "db9f3606",
   "metadata": {},
   "source": [
    "### Mapie"
   ]
  },
  {
   "cell_type": "code",
   "execution_count": null,
   "id": "d41b5db9",
   "metadata": {},
   "outputs": [],
   "source": [
    "list_id = np.random.randint(0,100000,500)\n",
    "X_train_up = x_mc_scaled[list_id,:Nfea]\n",
    "y_train_up = y_mc[list_id]\n",
    "\n",
    "list_id = np.random.randint(0,100000,500)\n",
    "X_valid_up = x_mc_scaled[list_id,:Nfea]\n",
    "y_valid_up = y_mc[list_id]\n"
   ]
  },
  {
   "cell_type": "code",
   "execution_count": null,
   "id": "c17ef1a1",
   "metadata": {},
   "outputs": [],
   "source": [
    "def objective(trial):\n",
    "    # Define hyperparameters\n",
    "    learning_rate = trial.suggest_float(\"learning_rate\", 1.0e-3, 1.0)\n",
    "    max_depth= trial.suggest_int(\"max_depth\", 2,10)\n",
    "    num_leaves = trial.suggest_int('num_leaves',2, 100)\n",
    "#     n_estimators=trial.suggest_int(\"n_estimators\", 2, 1000)\n",
    "    min_child_weight=trial.suggest_int(\"min_child_weight\", 2,100)\n",
    "\n",
    "\n",
    "    # Create and train the model\n",
    "    model = LGBMRegressor(learning_rate=learning_rate,\n",
    "                          max_depth=max_depth,\n",
    "                          num_leaves = num_leaves,\n",
    "#                           n_estimators=n_estimators,\n",
    "                          min_child_weight=min_child_weight)\n",
    "    model.fit(X_train_up, y_train_up)\n",
    "    y_GP = model.predict(X_valid_up)\n",
    "#     e_xgb = MSE(y_valid_up, y_GP)\n",
    "    e_xgb = 1-r2_score(y_valid_up, y_GP)\n",
    "\n",
    "    return e_xgb\n",
    "\n"
   ]
  },
  {
   "cell_type": "code",
   "execution_count": null,
   "id": "f1a07cee",
   "metadata": {},
   "outputs": [],
   "source": [
    "%%time\n",
    "study = optuna.create_study(direction='minimize')\n",
    "study.optimize(objective, n_trials=300)\n",
    "\n"
   ]
  },
  {
   "cell_type": "code",
   "execution_count": null,
   "id": "4fb3b3d4",
   "metadata": {},
   "outputs": [],
   "source": [
    "parameters = study.best_params\n",
    "model = LGBMRegressor(learning_rate=parameters['learning_rate'],\n",
    "                          max_depth=int(parameters['max_depth']),\n",
    "#                           n_estimators=int(parameters['n_estimators']),\n",
    "                          min_child_weight=int(parameters['min_child_weight']))\n",
    "\n",
    "model_05 = LGBMRegressor(learning_rate=parameters['learning_rate'],\n",
    "                          max_depth=int(parameters['max_depth']),\n",
    "#                           n_estimators=int(parameters['n_estimators']),\n",
    "                          min_child_weight=int(parameters['min_child_weight']), objective='quantile', alpha=0.05)\n",
    "\n",
    "model_95 = LGBMRegressor(learning_rate=parameters['learning_rate'],\n",
    "                          max_depth=int(parameters['max_depth']),\n",
    "#                           n_estimators=int(parameters['n_estimators']),\n",
    "                          min_child_weight=int(parameters['min_child_weight']), objective='quantile', alpha=0.95)\n",
    "\n",
    "parameters\n"
   ]
  },
  {
   "cell_type": "code",
   "execution_count": null,
   "id": "fde9b26c",
   "metadata": {},
   "outputs": [],
   "source": [
    "k = 50\n",
    "X_train_up = x_mc[:k,:Nfea]\n",
    "y_train_up = y_mc[:k]\n",
    "\n",
    "model = LGBMRegressor()\n",
    "model_05 = LGBMRegressor(objective='quantile', alpha=0.05)\n",
    "model_95 = LGBMRegressor(objective='quantile', alpha=0.95)\n",
    "\n",
    "model.fit(X_train_up, y_train_up)\n",
    "y_GPref = model.predict(x_mc[:,:Nfea])\n",
    "list_Pf = []\n",
    "r2_score(y_GPref, y_mc)\n",
    "list_Ri = []"
   ]
  },
  {
   "cell_type": "code",
   "execution_count": null,
   "id": "6cbbc3f6",
   "metadata": {
    "scrolled": true
   },
   "outputs": [],
   "source": [
    "%%time\n",
    "for i in range(30):  \n",
    "#     model.fit(X_train_up, y_train_up, init_model = model)\n",
    "    model.fit(X_train_up, y_train_up)\n",
    "    model_05.fit(X_train_up, y_train_up)\n",
    "    model_95.fit(X_train_up, y_train_up)\n",
    "   \n",
    "    y_05 = model_05.predict(x_mc_scaled[:,:Nfea])\n",
    "    y_95 = model_95.predict(x_mc_scaled[:,:Nfea])\n",
    "    y_GP = model.predict(x_mc_scaled[:,:Nfea])\n",
    "    std = np.abs(y_95-y_05)/4.0\n",
    "    Pf, CoV, Ri = cal_Pf(y_GP)\n",
    "    idx, U = Ufunc_k(y_GP, std,k=150)\n",
    "    x_new, y_new = x_mc_scaled[idx,:Nfea], y_mc[idx]\n",
    "    X_train_up = np.concatenate([X_train_up, x_new], axis = 0)\n",
    "    y_train_up = np.concatenate([y_train_up, y_new])\n",
    "    list_Ri.append(Ri)\n",
    "    print(Pf, Ri, CoV, len(y_train_up))\n",
    "    \n"
   ]
  },
  {
   "cell_type": "code",
   "execution_count": null,
   "id": "0f2db0f7",
   "metadata": {},
   "outputs": [],
   "source": [
    "r2_score(y_GP, y_mc)    "
   ]
  },
  {
   "cell_type": "code",
   "execution_count": null,
   "id": "5f4cfe28",
   "metadata": {},
   "outputs": [],
   "source": [
    "plt.figure(figsize=(6,5))\n",
    "plt.scatter(y_GPref, y_mc, color = 'r');\n",
    "plt.scatter(y_GP, y_mc);\n",
    "plt.plot([-0.3, 0.3],[-0.3, 0.3], 'y')\n",
    "plt.xlim(-0.3, 0.3)\n",
    "plt.ylim(-0.3, 0.3)\n",
    "plt.legend(['Before', 'After', 'Ideal']);\n",
    "plt.grid(True)\n",
    "plt.xlabel('Prediction')\n",
    "plt.ylabel('Actual')\n",
    "plt.tight_layout()\n",
    "plt.savefig('aaa.png',dpi=300)"
   ]
  },
  {
   "cell_type": "code",
   "execution_count": 195,
   "id": "7082b52d",
   "metadata": {},
   "outputs": [
    {
     "data": {
      "text/plain": [
       "(-0.3, 0.3)"
      ]
     },
     "execution_count": 195,
     "metadata": {},
     "output_type": "execute_result"
    },
    {
     "data": {
      "image/png": "[encoded data removed]",
      "text/plain": [
       "<Figure size 640x480 with 1 Axes>"
      ]
     },
     "metadata": {},
     "output_type": "display_data"
    }
   ],
   "source": []
  },
  {
   "cell_type": "code",
   "execution_count": null,
   "id": "9cd0450f",
   "metadata": {},
   "outputs": [],
   "source": [
    "list_fea"
   ]
  },
  {
   "cell_type": "code",
   "execution_count": null,
   "id": "2899d7d5",
   "metadata": {},
   "outputs": [],
   "source": [
    "df_ll = pd.DataFrame()\n",
    "df_ll['LCol'] = x_mc[:,0]\n",
    "df_ll['HCol'] = x_mc[:,1]\n",
    "df_ll['BCol'] = x_mc[:,2]\n",
    "df_ll['LBeam'] = x_mc[:,3]\n",
    "df_ll['HBeam'] = x_mc[:,4]\n",
    "df_ll['BBeam'] = x_mc[:,5]\n",
    "df_ll['LGird'] = x_mc[:,6]\n",
    "df_ll['HGird'] = x_mc[:,7]\n",
    "df_ll['BGird'] = x_mc[:,8]\n",
    "df_ll['cover'] = x_mc[:,9]\n",
    "df_ll['AsCol'] = x_mc[:,10]\n",
    "df_ll['AsBeam'] = x_mc[:,11]\n",
    "df_ll['AsGird'] = x_mc[:,12]\n",
    "df_ll['fc'] = x_mc[:,13]\n",
    "df_ll['Ec'] = x_mc[:,14]\n",
    "df_ll['Fy'] = x_mc[:,15]\n",
    "df_ll['Es'] = x_mc[:,16]\n",
    "df_ll['P2'] = x_mc[:,17]\n",
    "df_ll['P3'] = x_mc[:,18]\n",
    "df_ll['P4'] = x_mc[:,19]\n",
    "df_ll['P5'] = x_mc[:,20]\n",
    "df_ll['g_pred']=y_GP\n"
   ]
  },
  {
   "cell_type": "code",
   "execution_count": null,
   "id": "0f6ea9a6",
   "metadata": {},
   "outputs": [],
   "source": [
    "# df_ll = df_ll*1E4\n",
    "df_ll['Ec'] = df_ll['Ec']\n",
    "df_ll['Es'] = df_ll['Es']\n",
    "df_ll['fc'] = -df_ll['fc']\n",
    "df_ll['Fy'] = df_ll['Fy']\n",
    "df_ll['P5'] = df_ll['P5']\n",
    "df_ll['AsCol'] = df_ll['AsCol']\n",
    "df_ll['AsBeam'] = df_ll['AsBeam']\n",
    "df_ll['AsGird'] = df_ll['AsGird']\n",
    "df_ll['cover'] = df_ll['cover']\n",
    "df_ll['g_pred'] = df_ll['g_pred']\n",
    "label = np.zeros(len(y_GP))\n",
    "label[y_GP<0]=1\n",
    "df_ll['out'] = label\n",
    "len(y_GP[y_GP<0])\n"
   ]
  },
  {
   "cell_type": "code",
   "execution_count": null,
   "id": "dd99a2a8",
   "metadata": {},
   "outputs": [],
   "source": [
    "from matplotlib import rcParams, rc\n",
    "rcParams['font.family'] = 'serif'\n",
    "rcParams['font.sans-serif'] = ['Time New Roman']\n",
    "fsize = 14\n",
    "rcParams.update({'font.size': fsize})\n"
   ]
  },
  {
   "cell_type": "code",
   "execution_count": null,
   "id": "038aaab7",
   "metadata": {},
   "outputs": [],
   "source": [
    "col_name = col_name = ['L_col', 'H_col','B_col', 'L_beam', 'H_beam', 'B_beam','L_gird', 'H_gird','B_gird', 'cover','As_col','As_beam','As_gird', 'f_c', 'E_c', 'f_y', 'E_s', 'F_4', 'F_3', 'F_2', 'F_1', 'g(X)']"
   ]
  },
  {
   "cell_type": "code",
   "execution_count": null,
   "id": "af8f84a2",
   "metadata": {},
   "outputs": [],
   "source": [
    "N_rand = 20\n",
    "cols = list(np.array(list(df_ll))[:-2]) + ['g_pred']\n",
    "df_2 = df_ll.iloc[:len(df_ll)]\n",
    "df_3 = df_ll[df_ll['out'] == 1]\n",
    "df_2 = df_2.append(df_3)\n",
    "\n",
    "\n",
    "fig = go.Figure(data=\n",
    "    go.Parcoords(line = dict(color = df_2['out'], colorscale = [[0,'grey'],[1,'red']]),\n",
    "        dimensions = [dict(label=col_name[i], values=df_2[cols[i]]) for i in range(len(cols))]))\n",
    "\n",
    "fig.update_layout( width=1000,   height=450, font=dict(size=15),\n",
    "    font_family=\"Times New Roman\",    title_font_family=\"Times New Roman\")\n",
    "\n",
    "fig.update_traces( dimensions=[\n",
    "        {**d, **{\"tickvals\": np.around(np.linspace(min(d[\"values\"]), max(d[\"values\"]), 3),1)  }}\n",
    "        for d in fig.to_dict()[\"data\"][0][\"dimensions\"]])\n",
    "\n",
    "plt.tight_layout()\n",
    "fig.show()\n",
    "\n"
   ]
  },
  {
   "cell_type": "code",
   "execution_count": null,
   "id": "98c9b2fd",
   "metadata": {},
   "outputs": [],
   "source": []
  },
  {
   "cell_type": "markdown",
   "id": "6b78ea31",
   "metadata": {},
   "source": [
    "### Model selection"
   ]
  },
  {
   "cell_type": "code",
   "execution_count": null,
   "id": "1a077416",
   "metadata": {},
   "outputs": [],
   "source": [
    "from pycaret.regression import *"
   ]
  },
  {
   "cell_type": "code",
   "execution_count": null,
   "id": "f6274b65",
   "metadata": {},
   "outputs": [],
   "source": [
    "k = 1000\n",
    "X_scaled = x_mc_scaled[:k,:]\n",
    "y_train_up = y_mc[:k]"
   ]
  },
  {
   "cell_type": "code",
   "execution_count": null,
   "id": "a7a03e0b",
   "metadata": {},
   "outputs": [],
   "source": [
    "df = pd.DataFrame(X_scaled)\n",
    "df['class'] = y_train_up\n",
    "len(df)"
   ]
  },
  {
   "cell_type": "code",
   "execution_count": null,
   "id": "c9c0eb6b",
   "metadata": {},
   "outputs": [],
   "source": [
    "# %%time\n",
    "s = setup(df, target = 'class', use_gpu=True, train_size=0.5)\n",
    "best = compare_models(include=['svm', 'dt', 'rf', 'ada', 'xgboost', 'lightgbm'], cross_validation = False)\n",
    "\n"
   ]
  },
  {
   "cell_type": "code",
   "execution_count": null,
   "id": "29c3c56a",
   "metadata": {},
   "outputs": [],
   "source": []
  },
  {
   "cell_type": "code",
   "execution_count": null,
   "id": "f6892fd0",
   "metadata": {},
   "outputs": [],
   "source": []
  },
  {
   "cell_type": "code",
   "execution_count": null,
   "id": "9472031b",
   "metadata": {},
   "outputs": [],
   "source": []
  }
 ],
 "metadata": {
  "kernelspec": {
   "display_name": "Python 3 (ipykernel)",
   "language": "python",
   "name": "python3"
  },
  "language_info": {
   "codemirror_mode": {
    "name": "ipython",
    "version": 3
   },
   "file_extension": ".py",
   "mimetype": "text/x-python",
   "name": "python",
   "nbconvert_exporter": "python",
   "pygments_lexer": "ipython3",
   "version": "3.9.13"
  }
 },
 "nbformat": 4,
 "nbformat_minor": 5
}
